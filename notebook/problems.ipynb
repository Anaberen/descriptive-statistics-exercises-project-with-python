{
    "cells": [
        {
            "cell_type": "markdown",
            "id": "ac622319",
            "metadata": {},
            "source": [
                "# Descriptive statistics problems"
            ]
        },
        {
            "cell_type": "markdown",
            "id": "5e0ab0d5",
            "metadata": {},
            "source": [
                "### Exercise 1\n",
                "\n",
                "We will use NumPy to obtain information to describe statistically.\n",
                "\n",
                "- Generate an array of 100 elements following a normal distribution.\n",
                "- Generate an array of 100 elements following a chi-square distribution with 3 degrees of freedom.\n",
                "- Calculate the main metrics and statistical measures that best describe the two vectors."
            ]
        },
        {
            "cell_type": "code",
            "execution_count": 17,
            "id": "34720ab6",
            "metadata": {},
            "outputs": [],
            "source": [
                "# TODO\n",
                "\n",
                "import numpy as np\n",
                "import statistics as stats\n",
                "from scipy.stats import norm, kurtosis, skew\n",
                "import math\n",
                "import sys"
            ]
        },
        {
            "cell_type": "code",
            "execution_count": 3,
            "id": "df742cad",
            "metadata": {},
            "outputs": [
                {
                    "name": "stdout",
                    "output_type": "stream",
                    "text": [
                        " Normal vector: [-1.45132847e-01  1.49852811e+00  1.08902275e+00 -1.06104660e+00\n",
                        " -5.00958026e-01  9.29305518e-01 -2.15447915e+00  1.24207006e+00\n",
                        " -7.31378773e-01  4.19333538e-01  1.53806388e+00  7.34003779e-01\n",
                        "  9.30499673e-01  8.81855724e-02 -1.25082604e+00 -1.78008634e+00\n",
                        " -2.72031473e-03 -3.30878610e-01 -3.03581322e-01  6.01972605e-01\n",
                        " -1.07710436e+00  2.16898127e-01 -3.14325646e-01  1.26504393e+00\n",
                        "  8.25262903e-01  1.01113562e+00  8.67413490e-01  8.04659355e-01\n",
                        "  2.12020492e+00 -1.18165028e+00 -3.98847258e-01  5.18971101e-01\n",
                        "  2.58891730e-01 -1.37278846e+00  1.42502579e-01  2.02864317e+00\n",
                        " -5.35902443e-01 -3.57739104e-01  9.77595994e-02 -1.05978718e+00\n",
                        " -8.99569911e-01  3.51690647e-01 -2.53738874e-01  9.19505209e-02\n",
                        "  1.78778930e+00  4.46913271e-01 -5.97335827e-01 -7.78901693e-01\n",
                        "  3.62934249e-01  1.46101849e+00  2.45463084e-01 -1.31800371e+00\n",
                        " -2.68266068e-01  1.93130678e-01 -1.98048391e-01  2.09657479e+00\n",
                        "  8.56419888e-01  1.18615792e+00  2.69314148e-01 -1.95613107e+00\n",
                        " -9.16326490e-01  1.02789171e+00  1.62763426e+00  6.07386750e-01\n",
                        "  1.36980976e-01  9.29081014e-01  1.23351959e+00 -7.43777485e-01\n",
                        " -2.05415761e-01 -1.77341660e-01  4.17433201e-01 -1.04403175e+00\n",
                        " -2.02089034e-01 -1.11949611e+00 -1.23696699e+00 -1.49922920e-01\n",
                        " -2.36828234e+00 -1.84087391e-01  1.40274164e+00 -1.67697634e-01\n",
                        "  2.06883614e+00 -6.49911536e-02 -8.60054482e-04  3.15790708e-01\n",
                        " -2.91964822e-01  9.82500163e-01 -1.55928655e+00  1.12966807e+00\n",
                        "  6.15970544e-01 -1.64205806e+00  5.80954477e-01 -8.14179750e-01\n",
                        " -6.53525746e-02  2.91098727e-01 -6.49356575e-01 -1.25659832e+00\n",
                        " -9.01011124e-02 -1.75017727e+00 -1.34241471e-01 -8.53306391e-01]\n",
                        "chi-vector: [ 4.33439952  5.66031554  9.37212896  1.09029297  2.68679312  5.05777684\n",
                        "  0.88286528  1.07073272  4.95542838  2.69055849  7.52462483  2.00990248\n",
                        "  2.69581475  5.21961575  1.57978675  5.98675181  2.38160776  4.73544147\n",
                        "  2.73135518  0.26955098  4.47227804  3.69693182  5.54706462  4.54254155\n",
                        "  4.38525842  9.81656464  0.84932443  3.56145181  2.21944331  0.40931044\n",
                        "  0.18926588  4.50768408  1.06538461  5.1302089   4.35387577  2.96945661\n",
                        "  0.16829519  1.73804022  0.30467044  0.60675034  0.79367937  0.31700553\n",
                        "  0.99681705  2.2061051   0.19820796  1.50556751  4.09982809  6.40479388\n",
                        "  1.186017    1.0126389   1.28278198  2.0933396   3.00895044  1.29902342\n",
                        "  0.60842454  0.31738783  1.06524571  1.41148757  4.10716327  2.21462733\n",
                        "  5.84392229  2.98039293  0.75506142  0.48554036  0.61753191  2.27394455\n",
                        "  3.13535584  4.88777075  0.39205622  0.4025133   9.22104076  0.66223489\n",
                        "  1.48942501  1.16142885  4.05904682  1.2298384   1.29701466  3.48854942\n",
                        "  2.75050178  7.34134185  7.21645531  6.55342712  4.3142614   9.21296959\n",
                        "  0.87735761  0.20068471  2.96939624  1.50353698 11.70327645  1.92048837\n",
                        "  0.52004079  3.682066    3.84827803  2.74383162  0.32354705  2.13884861\n",
                        "  2.08610145  1.11744561  2.42934771  2.84042721]\n"
                    ]
                }
            ],
            "source": [
                "np.random.normal(42)\n",
                "\n",
                "normal_vect = np.random.normal(size = 100)\n",
                "chi_vect = np.random.chisquare(3, 100)\n",
                "\n",
                "print(f\" Normal vector: {normal_vect}\")\n",
                "print(f\"chi-vector: {chi_vect}\")"
            ]
        },
        {
            "cell_type": "code",
            "execution_count": 8,
            "id": "c2af061e",
            "metadata": {},
            "outputs": [
                {
                    "name": "stdout",
                    "output_type": "stream",
                    "text": [
                        "Normal mean: 0.03428078971077835\n",
                        "Chi- mean: 2.9227493661444885\n"
                    ]
                }
            ],
            "source": [
                "#MEAN\n",
                "\n",
                "mean_norm = stats.mean(normal_vect)\n",
                "mean_chi = stats.mean(chi_vect)\n",
                "\n",
                "print(f\"Normal mean: {mean_norm}\")\n",
                "print(f\"Chi- mean: {mean_chi}\")"
            ]
        },
        {
            "cell_type": "code",
            "execution_count": 9,
            "id": "841e5b65",
            "metadata": {},
            "outputs": [
                {
                    "name": "stdout",
                    "output_type": "stream",
                    "text": [
                        "Normal median: -0.001790184605425259\n",
                        "Chi- median: 2.246693930258089\n"
                    ]
                }
            ],
            "source": [
                "#MEDIAN\n",
                "\n",
                "med_norm = stats.median(normal_vect)\n",
                "med_chi = stats.median(chi_vect)\n",
                "\n",
                "print(f\"Normal median: {med_norm}\")\n",
                "print(f\"Chi- median: {med_chi}\")"
            ]
        },
        {
            "cell_type": "code",
            "execution_count": 10,
            "id": "fde8845e",
            "metadata": {},
            "outputs": [
                {
                    "name": "stdout",
                    "output_type": "stream",
                    "text": [
                        "Normal mode: -0.14513284696505405\n",
                        "Chi- mode: 4.334399520911893\n"
                    ]
                }
            ],
            "source": [
                "#MODE\n",
                "\n",
                "mod_norm = stats.mode(normal_vect)\n",
                "mod_chi = stats.mode(chi_vect)\n",
                "\n",
                "print(f\"Normal mode: {mod_norm}\")\n",
                "print(f\"Chi- mode: {mod_chi}\")"
            ]
        },
        {
            "cell_type": "code",
            "execution_count": 11,
            "id": "65ae8c9e",
            "metadata": {},
            "outputs": [
                {
                    "name": "stdout",
                    "output_type": "stream",
                    "text": [
                        "Normal range: 4.488487259064819\n",
                        "Normal chi: 11.534981261018425\n"
                    ]
                }
            ],
            "source": [
                "#RANGE\n",
                "\n",
                "range_normal = max(normal_vect) - min(normal_vect)\n",
                "range_chi = max(chi_vect) - min(chi_vect)\n",
                "\n",
                "print(f\"Normal range: {range_normal}\")\n",
                "print(f\"Normal chi: {range_chi}\")"
            ]
        },
        {
            "cell_type": "code",
            "execution_count": 13,
            "id": "9e68de74",
            "metadata": {},
            "outputs": [
                {
                    "name": "stdout",
                    "output_type": "stream",
                    "text": [
                        "Normal variance: 1.013562682644335 and std: 1.0067585026431785\n",
                        "Chi variance: 6.142041998450639 and std: 2.478314346173754\n"
                    ]
                }
            ],
            "source": [
                "#VARIANCE AND STANDARD DESVIATION\n",
                "\n",
                "var_norm = stats.variance(normal_vect)\n",
                "var_chi = stats.variance(chi_vect)\n",
                "\n",
                "std_norm = stats.stdev(normal_vect)\n",
                "std_chi = stats.stdev(chi_vect)\n",
                "\n",
                "print(f\"Normal variance: {var_norm} and std: {std_norm}\")\n",
                "print(f\"Chi variance: {var_chi} and std: {std_chi}\")"
            ]
        },
        {
            "cell_type": "code",
            "execution_count": 14,
            "id": "45358ef1",
            "metadata": {},
            "outputs": [
                {
                    "name": "stdout",
                    "output_type": "stream",
                    "text": [
                        "Normal kurtosis: -0.43513489423299845\n",
                        "Chi kurtosis: 1.3272256306751435\n"
                    ]
                }
            ],
            "source": [
                "#KURTOSIS \n",
                "\n",
                "kurt_norm = kurtosis(normal_vect)\n",
                "kurt_chi = kurtosis(chi_vect)\n",
                "\n",
                "print(f\"Normal kurtosis: {kurt_norm}\")\n",
                "print(f\"Chi kurtosis: {kurt_chi}\")\n",
                "\n"
            ]
        },
        {
            "cell_type": "code",
            "execution_count": 15,
            "id": "533cc559",
            "metadata": {},
            "outputs": [
                {
                    "name": "stdout",
                    "output_type": "stream",
                    "text": [
                        "Normal skewness: -0.05051376575498134\n",
                        "Chi skewness: 1.2434994199727207\n"
                    ]
                }
            ],
            "source": [
                "#SKEW\n",
                "\n",
                "skew_norm = skew(normal_vect)\n",
                "skew_chi = skew(chi_vect)\n",
                "\n",
                "print(f\"Normal skewness: {skew_norm}\")\n",
                "print(f\"Chi skewness: {skew_chi}\")"
            ]
        },
        {
            "cell_type": "markdown",
            "id": "46c70c3d",
            "metadata": {},
            "source": [
                "### Exercise 2\n",
                "\n",
                "Write a Python program to calculate the standard deviation of the following data:\n",
                "\n",
                "```py\n",
                "data = [4, 2, 5, 8, 6]\n",
                "```"
            ]
        },
        {
            "cell_type": "code",
            "execution_count": 21,
            "id": "d590308e",
            "metadata": {},
            "outputs": [
                {
                    "name": "stdout",
                    "output_type": "stream",
                    "text": [
                        "Sample Data: [4, 2, 5, 8, 6]\n",
                        "Standard Deviation: 2.23606797749979\n"
                    ]
                }
            ],
            "source": [
                "# TODO\n",
                "\n",
                "data = [4, 2, 5, 8, 6]\n",
                "\n",
                "def sd_calc(data):\n",
                "    n = len(data)\n",
                "\n",
                "    if (n <= 1):\n",
                "        return 0.0\n",
                "\n",
                "    mean, sd = avg_calc(data), 0.0\n",
                "\n",
                "    for d in data:\n",
                "        sd += (float(d) - mean) ** 2\n",
                "    sd = math.sqrt(sd / float(n - 1))\n",
                "\n",
                "    return sd\n",
                "\n",
                "\n",
                "print(f\"Sample Data: {data}\")\n",
                "print(f\"Standard Deviation: {sd_calc(data)}\")"
            ]
        }
    ],
    "metadata": {
        "interpreter": {
            "hash": "9248718ffe6ce6938b217e69dbcc175ea21f4c6b28a317e96c05334edae734bb"
        },
        "kernelspec": {
            "display_name": "Python 3.9.12 ('ML-BOOTCAMP')",
            "language": "python",
            "name": "python3"
        },
        "language_info": {
            "codemirror_mode": {
                "name": "ipython",
                "version": 3
            },
            "file_extension": ".py",
            "mimetype": "text/x-python",
            "name": "python",
            "nbconvert_exporter": "python",
            "pygments_lexer": "ipython3",
            "version": "3.11.4"
        }
    },
    "nbformat": 4,
    "nbformat_minor": 5
}
